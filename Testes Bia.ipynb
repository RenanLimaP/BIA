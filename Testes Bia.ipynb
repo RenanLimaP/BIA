{
 "cells": [
  {
   "cell_type": "code",
   "execution_count": 4,
   "metadata": {
    "collapsed": true
   },
   "outputs": [],
   "source": [
    "from sklearn.feature_extraction.text import CountVectorizer\n",
    "from sklearn.feature_extraction import text\n",
    "from sklearn.datasets import load_files\n",
    "import pandas as pd\n",
    "import numpy as np\n",
    "from sklearn import ensemble\n",
    "from sklearn import metrics"
   ]
  },
  {
   "cell_type": "code",
   "execution_count": 6,
   "metadata": {},
   "outputs": [
    {
     "name": "stdout",
     "output_type": "stream",
     "text": [
      "    Falta ao Waze o cálculo de gasto com combustivel (km/l) e informações dos pedágios pela rota com o valor deles.\n",
      "0    App muito útil, sempre utilizo, atende bem as ...                                                             \n",
      "1    Procurando rede. Depois desse última atualizaç...                                                             \n",
      "2                  Muito bom Uso sempre. Não fico sem.                                                             \n",
      "3    Muito bom. Excelente. Prevê o tempo de viagem ...                                                             \n",
      "4    Rotas mais conhecidas Gostaria de poder optar ...                                                             \n",
      "5                                            Muito bom                                                             \n",
      "6                                            Excelente                                                             \n",
      "7    GPS no Asus tá uma caca! Não habilita rapidame...                                                             \n",
      "8    Maravilhoso Simplesmente indispensável para to...                                                             \n",
      "9           melhor aplicativo que existe para taxistas                                                             \n",
      "10   Muito bom... Agora posso andar pra todos os lu...                                                             \n",
      "11                     Essencial Parabéns equipe waze!                                                             \n",
      "12                 Muito boas as últimas modificações.                                                             \n",
      "13     App de utilidade publica n. 1!!! Imprescindível                                                             \n",
      "14                 Ultimamente ele está muito instável                                                             \n",
      "15                                             Bom Bom                                                             \n",
      "16                                     10 Vale a pena!                                                             \n",
      "17                                    Minha bússola 10                                                             \n",
      "18                                           Excelente                                                             \n",
      "19                             Excelente Show de bola.                                                             \n",
      "20                                 Excelente Excelente                                                             \n",
      "21                                           Muito bom                                                             \n",
      "22   Um dos melhores Muito bom mas tem uns erros ai...                                                             \n",
      "23   Software Muito Lento e muitas vezes a operador...                                                             \n",
      "24   Muito bom! Aposentei o meu velho GPS e ainda r...                                                             \n",
      "25                                        Excelente...                                                             \n",
      "26   Ótimo Porém como muitas pessoas relatam ele se...                                                             \n",
      "27   Problema com gps Desde de uma actualização rec...                                                             \n",
      "28                                               Ótimo                                                             \n",
      "29   O melhor que conheço mas precisa melhorarTem a...                                                             \n",
      "..                                                 ...                                                             \n",
      "269                      Maravilha! O melhor de todos!                                                             \n",
      "270                      O melhor do mundo até agora!!                                                             \n",
      "271                       Bom, mas ainda pode melhorar                                                             \n",
      "272  Muito show App essencial! pena que não dá mais...                                                             \n",
      "273                O tipo app Ótimo app se souber usar                                                             \n",
      "274                                   Waze Muito útil!                                                             \n",
      "275                                           Waze Bom                                                             \n",
      "276                                 gps falhando muito                                                             \n",
      "277                               Muito bom. Ótimo app                                                             \n",
      "278                                             Ótimo.                                                             \n",
      "279  É fundamental, mas a saída programada não func...                                                             \n",
      "280                                          Muito bom                                                             \n",
      "281  Consertaram os bugs no moto g2 Vou dar 4 estre...                                                             \n",
      "282  Agora está travando , a internet é boa mas tem...                                                             \n",
      "283  Recomendado Uso sempre e ele ja me salvou dive...                                                             \n",
      "284                                          Muito bom                                                             \n",
      "285                                Muito Bom gostei!!!                                                             \n",
      "286  Inteligente! Excelente navegador, comunidade i...                                                             \n",
      "287  100% operacional É imbativel. A melhor app de ...                                                             \n",
      "288          Muito bom. Melhor aplicativo que já usei.                                                             \n",
      "289  Após atualização do Android 6 parou de funcion...                                                             \n",
      "290  MOTO MAXX: Está mais complicando do que facili...                                                             \n",
      "291                                       Gosto muito!                                                             \n",
      "292           Muito bom, mas... Consome muita bateria.                                                             \n",
      "293                                         Muito bom.                                                             \n",
      "294  Já foi melhor. nos últimos dois anos deixou a ...                                                             \n",
      "295  Dom da pesca utiliza Waze Eu uso esse app para...                                                             \n",
      "296                                          Muito bom                                                             \n",
      "297                                          Excelente                                                             \n",
      "298                                             Gostei                                                             \n",
      "\n",
      "[299 rows x 1 columns]\n"
     ]
    }
   ],
   "source": [
    "corpus = pd.read_excel('PlayStore.xlsx')\n",
    "print (corpus)"
   ]
  },
  {
   "cell_type": "code",
   "execution_count": 2,
   "metadata": {},
   "outputs": [
    {
     "name": "stdout",
     "output_type": "stream",
     "text": [
      "['de', 'a', 'o', 'que', 'e', 'do', 'da', 'em', 'um', 'para', 'Ã©', 'com', 'nÃ£o', 'uma', 'os', 'no', 'se', 'na', 'por', 'mais', 'as', 'dos', 'como', 'mas', 'foi', 'ao', 'ele', 'das', 'tem', 'Ã\\xa0', 'seu', 'sua', 'ou', 'ser', 'quando', 'muito', 'hÃ¡', 'nos', 'jÃ¡', 'estÃ¡', 'eu', 'tambÃ©m', 'sÃ³', 'pelo', 'pela', 'atÃ©', 'isso', 'ela', 'entre', 'era', 'depois', 'sem', 'mesmo', 'aos', 'ter', 'seus', 'quem', 'nas', 'me', 'esse', 'eles', 'estÃ£o', 'vocÃª', 'tinha', 'foram', 'essa', 'num', 'nem', 'suas', 'meu', 'Ã\\xa0s', 'minha', 'tÃªm', 'numa', 'pelos', 'elas', 'havia', 'seja', 'qual', 'serÃ¡', 'nÃ³s', 'tenho', 'lhe', 'deles', 'essas', 'esses', 'pelas', 'este', 'fosse', 'dele', 'tu', 'te', 'vocÃªs', 'vos', 'lhes', 'meus', 'minhas', 'teu', 'tua', 'teus', 'tuas', 'nosso', 'nossa', 'nossos', 'nossas', 'dela', 'delas', 'esta', 'estes', 'estas', 'aquele', 'aquela', 'aqueles', 'aquelas', 'isto', 'aquilo', 'estou', 'estÃ¡', 'estamos', 'estÃ£o', 'estive', 'esteve', 'estivemos', 'estiveram', 'estava', 'estÃ¡vamos', 'estavam', 'estivera', 'estivÃ©ramos', 'esteja', 'estejamos', 'estejam', 'estivesse', 'estivÃ©ssemos', 'estivessem', 'estiver', 'estivermos', 'estiverem', 'hei', 'hÃ¡', 'havemos', 'hÃ£o', 'houve', 'houvemos', 'houveram', 'houvera', 'houvÃ©ramos', 'haja', 'hajamos', 'hajam', 'houvesse', 'houvÃ©ssemos', 'houvessem', 'houver', 'houvermos', 'houverem', 'houverei', 'houverÃ¡', 'houveremos', 'houverÃ£o', 'houveria', 'houverÃ\\xadamos', 'houveriam', 'sou', 'somos', 'sÃ£o', 'era', 'Ã©ramos', 'eram', 'fui', 'foi', 'fomos', 'foram', 'fora', 'fÃ´ramos', 'seja', 'sejamos', 'sejam', 'fosse', 'fÃ´ssemos', 'fossem', 'for', 'formos', 'forem', 'serei', 'serÃ¡', 'seremos', 'serÃ£o', 'seria', 'serÃ\\xadamos', 'seriam', 'tenho', 'tem', 'temos', 'tÃ©m', 'tinha', 'tÃ\\xadnhamos', 'tinham', 'tive', 'teve', 'tivemos', 'tiveram', 'tivera', 'tivÃ©ramos', 'tenha', 'tenhamos', 'tenham', 'tivesse', 'tivÃ©ssemos', 'tivessem', 'tiver', 'tivermos', 'tiverem', 'terei', 'terÃ¡', 'teremos', 'terÃ£o', 'teria', 'terÃ\\xadamos', 'teriam']\n"
     ]
    }
   ],
   "source": [
    "file = open(\"StopWords.txt\", 'r')\n",
    "lines = file.readlines()\n",
    "\n",
    "my_list = [line.split('\\n')[0] for line in open (\"StopWords.txt\")]\n",
    "my_list = [line.split(' ')[0] for line in my_list]\n",
    "print (my_list)"
   ]
  },
  {
   "cell_type": "code",
   "execution_count": 5,
   "metadata": {},
   "outputs": [
    {
     "name": "stdout",
     "output_type": "stream",
     "text": [
      "['POSTAGEM', 'Ótimo Não me deixou na mão ainda!!!', 'O melhor', ' O melhor', 'Bom D+ já me ajudou muito principalmente em lugares que não conheço ??????????????????', 'Está completamente errado!! Da caminhos e rotas que não dão em lugar em nenhum', ' É muito útil pra mim é esses dias começou com isso ', 'Meu mapa,minhas direções Ótimo msm (y) merece um 10 ;-D OK', 'É esse aplicativo é show de bola Antônio Jacinto Da Silva Filho', 'Tony Top eu uso muito eu faço entregas de lanche quando eu não sei eu pesquiso no map rápido e prático', 'Muito bom Sempre me ajuda', 'Muito bom Nota 10 recomendadissimo', 'Muito bom Muito bom para jogar pokemon GO', 'Observação Excelente, muito bom', 'Tudo que a Google faz e bom nada a reclamar', 'Ótimo Bom', 'Muito ruim', 'Otimo', 'Ótimo Recomendo', 'regular ficou muito lento depois dessa atualização', ' Mas ainda continua sendo bom', 'Problema na ultima atualização Ele fecha sozinho logo quando eu tento inicializar o aplicativo', 'Excelente De grande utilidade à visitantes!!!', 'O melhor', 'gostei cumpre com meus objetivos seria bom se indicasse a proximidade de radares', 'Tinha que ter voz', 'Perfeito Uma dica, vocês deviam botar uma ferramenta para calcular a quantidade de combustível que gasta de um ponto para outro', 'Uma porcaria Dica : baixem o Waze Gps e muito melhor', 'Maravilhoso!', 'Muito bom Me ajuda muito! Nunca deu problema', 'Perfeito Estão de parabéns', 'Show! Excelente aplicativo!', 'Muito bom Só falta mostrar a velocidade, de resto é completo', 'Guia prático e rápido Excelente', 'Muito bom Excelente', 'Gostei!! ??????', 'Otimo', 'Bom porem Eu ja entrei Em uma favela por causa de deus nao ouve nada comigo coloquei um caminho e ele me enviou para um lugar comoletamente diferente da rota', 'OTIMO', 'Lenovo C2 Muito bom, tanto prova que é mais rápido e eficaz de que no próprio computador, pelo menos no meu celular ele não tava, nem da bugs e etc', 'Bom Funciona', 'Muito bom, parabéns', 'Falta Via Fluvial Para quem mora numa cidade onde o transporte fluvial é essencial o aplicativo não permite a escolha desse meio de transporte', 'Não uso Fica atualizando toda hora sem que eu queira ou precise e ocupa espaço demais', 'Muito Bom Rápido e fácil!!!', 'Seria bom se não dependesse de internet ', 'Adorei', 'Otimizado Ficou muito legal esta versao do \"maps\" !!!Mais aibda dá para melhorar ', 'Muito bom', 'Adorei Eu amo tudo isso', 'Perfeito Muito bom', 'Otimo Otimo', 'Gosto muito', 'Voces poderiam criar a opção para caminhões Poderiam criar uma opção para quem trabalha com caminhão como rotas alternativas seguras ou em estradas onde é proibido trafegar pesados entre outras coisas', 'Muito bom Fácil de se localizar e tudo', 'Gps Ótimo app!', 'Cada dia melhor A cada atualização fica melhor', 'Adorei', 'Horrível Trava o tempo todo', 'Bom Bom app', 'Kra Ótimo', 'Horrível O meu endereço aparece errado', 'Show Muito util', 'Perfeito Já viajei mundo todo', 'Maravilhoso Eu localizou meu irmão em qual quer lugar', 'Mto bom Gostei', 'Ótimo', 'Mylink 2 Android auto Face Obrigatoriedade do uso do farol baixo nas rodovias durante o dia , o Google maps assume o modo noturno de forma automática ao ligar o farol, o que atrapalha muito a visibilidade', 'MT Bom msm de mais', 'Bom Otimo', 'Muito bom', 'Abro o aplicativo o celular trava', 'Sim Bom', 'Amei , Este app é D+???????? Este app é maravilhoso e se vc não baixou baixe tenho certeza que vc vai da mais de 10 estrelas ,eu dou nota 10(dez)????????', 'Otimo', 'Muito bom', ' Sensacional! !???', ' Me ajuda muito', 'Pra mim e a meu oculos sem ele nao saio de casa super recomendável e melhor gps', 'Muito bom excelente', 'Otimo Muinto bom esse ap perfeito para turismo', 'Adoro Me salvou em pelo menos 3 países', 'Bom Bom', 'Top Confiável', 'Ótimo', 'Excepcional Melhor app de mapas e gps!', 'Muito útil Perfeito uso muito,parabéns aos realizadores', 'E muito bom', 'Muito bom', '??? Na Rua Quintino Bocaiúva, Setor-Campinas em Goiânia Goiás, no final desta rua no encontro com Av, Castelo branco é contra não, já o GPS da esta rota como se fosse mão certa, fui multado lá, por falta de vcs atualizar esta rua ', 'Legal demais', 'Gostei Muito bom', 'eu gostei mais ou menos', 'Não consigo instalar app em Vodafone Smart 4 Turbo', 'Mais ou menos E bom', 'Náo efetua o que é preciso Muitíssimo obrigada', 'Muito bom parabéns', 'Otimo Muito bom', 'Recomendo Aplicativo nota dez', 'Bom Muito bom', 'Está muito falho,erra mais do que acerta o endereço', 'Bom muito importante', '***** ******* E ótimo mães e lento', 'Parando muito Já era, imprestável, pra que um mapa que só para', 'Muito bom!!', 'So online Nao abaixa para ficar offline quando abaixa sua area fica pedindo para atualizar que vai expirar nao gostei por isso so vou dar duas estrelas', 'Ótimo', 'Classe Caminhão Acho que falta uma atualização para ajudar motoristas de caminhões com informações sobre, vias de trânsito restrito é horários de restrições', 'Hallécs Gostei', 'Útil Recomendo', 'Muito bom', 'Recomendo Muito bom, nunca tive problemas, melhor que meu equipamento gps', 'Legal', 'Muito bom Só que no meu tablete não funciona o satélite', 'Chato de mais', 'Só falta atualizar', 'Bom Mas as vezes da informação desencontradas e fica repetindo várias vezes uma coordenada já informada', 'Ajuda muito', 'Muito Bom Parabéns', 'Meu guia preferido Utilizo sempre , ótimo em todos aspectos !!!', 'Ótimo aplicativo, com informações precisas quanto ao trânsito, tempo de chegada e rotas disponíveis', 'Muito útil', 'Horrível péssimo ', ' Decepção esse app da Google', ' Lento demais, sem mostrar radares, sem mostrar painel de velocidade', ' Já foi melhor', 'l lento ao extremo', 'Maravilhoso', 'Prefeito Esta suprindo todas as minhas necessidades', 'Òtimo Muito bom adorei', 'Essa porcaria aqui mesmo não serve como gps', ' Gps de verdade é do Windows phone', 'Gostei bastante Vamo ver se funciona mesmo', 'Mapas offline custam muito espaço, nesse quesito chega nem aos pés do Here Maps por exemplo', 'Estradas de Portugal Muito bom', 'Trava muito', 'Otimo', 'quando instalo esse C@#@! aparece três APP pra fazer a msm coisa', 'top esse é preciso', 'Márcio Gostaria que mostrasse os radares também', 'Uma merda Porcaria', 'Bom Show', 'Uma porcaria Uma porcaria! Ja a anos que tento ao minimo ter o mapa offline da minha cidade (Goiânia) e nao consigo! Se for pra abrir mapa online eu uso o Waze, que tem notificações de acidentes, blitz, trânsito online', 'Escelente app', 'Muito bom', ' Só faltou indica radar e mostra a velocidade', 'Muito bom sempre da certo o que procuroBom', 'Ajuda muito Aqui na minha cidade ele é bom, tem me ajudado bastante, pena que não é of line e não mostra os radares nas vias isso é o que mais atrapalha', 'Perfeito Sempre uso online, tanto pelo indereco ou pelas cordedenadas sempre me leva no local, as vezes fecha, mas poucas vezes', ' Google e mais completo em todos os sentidos', 'Eh Realmete é bom', 'Sem espaço pra atualizar', 'Tem várias falhas na obtenção de GPS ficando lento', 'Eu recomendo para todos', 'Aff Última atualização não instala nunca', 'Ótimo App ajuda e muito quando necessário', ' Parabéns que tenha sempre melhoras', 'Ótimo', 'Perfeito O melhor app', 'Top Top', 'Nao Gostei', 'Trava demais', 'Carece de melhoramentos Falta precisão', 'Tá péssimo A tela fica coberta por a parte superior e a parte abaixo do aplicativo,,, tampando assim a visibilidade do mapa e da rota', ' Tinha que ter uma opção para tirar isso', ' Tipo em um clik a tela superior e inferior sumia, deixando assim a visao do mapa e da rota livre', 'Bom demais Bem que eu gostei', 'Satisfaz É boom d?', 'ta um lixo lixo', 'Bom Muito útil', 'Bom Pena que nao tem rotas off line a pé e de transporte público', 'Odiei O GPS me mandou inúmeras vezes p lugar errado, gastei horrores de gasolina', 'Bom porém não dá pra baixar os mapas no cartão de memória Botei também a opção de baixar o mapa inteiro do Brasil', ' Muito bom Mesmo! Assim ninguém se perde', '?????????? Nao gosto AFF', 'Eu simplesmente não quero! Não preciso', ' Não quero um APP que o Google força a instalação sem eu querer na memória do meu gadget', ' Consome bateria e dados sem eu desejar', 'Piorou mas últimas atualizações, sempre que coloco um trajeto fica constantemente a procura de sinal GPS deixou de ser útil', 'Hehe muito bom', 'Top', 'Esta com falha no zenfone 5 da Asus, muito lerdo e não carrega direito Precisa arrumar urgente, pois é um apo muito útil, quando funciona direito!!!', 'Poderia ser offline', 'esta a ser seguido nao quero', 'Depois da última atualização está travando', 'Gostei', 'Mto bom', 'Muito bom Cristo', 'Showwww', 'Seria legal se avisasse caso estivesse acima do limite de velocidade, não radares, só em comparação com o limite da via', 'É bom Mas eventualmente a moça fica muda e não indica o caminho verbalmente', 'Gostei Bom aplicativo', 'Show Não se perde', 'Top Muito bom', 'Ficou péssimo depois da atualização', ' As imagens das ruas ficaram horríveis', 'Bom Otima', 'Muito bom, uso diariamente', 'Show', 'Horrível', 'Só pq não tem outro Péssimo, porem o waze é pior', 'Chik Valeu', 'Não tá bom, precisa voltar o que era', 'Pessimo', 'Um lixo uma bosta', 'Ótimo app me ajuda muito a chegar nos locais que não conheço Adorei', 'Porcaria! Ele, nao entende que estou em linha reta na rua, mostra que estou dirigindo o carro de lado! O que e isso e um carrangueijo ? Ja com o waze nao tenho problemas!', 'Bom', 'Chato Trava e fecha todas as vezes que coloco rota', 'Pelo menos não me perdo+', 'Bom ;-)', 'Legal Muito bom', 'Muito bom! Recomendo', 'Mapas esta de parabens otimo Muito bem organizado', 'Excelente Excelente', 'Muito bom', 'Falta informações Não mostra radar como o wase e não aceita indicar as cidades onde quero passar entre a partida e o destino', ' Queria marcar trajeto passando por um desvio e não consegui', 'Gostei', 'Bom aplicativo Show', 'Ruim, lento e confuso O mapa não rotaciona, o cursor fica \"perdido\" e indica o caminho errado muitas vezes', 'Inverte numeração de ruas', 'Ótimo parabéns! ??', 'Muito bom Excelente', 'Gostei Muito bom mesmo', 'Muito bom!!', 'Ótimo !', 'Oríveu', 'Muito bom Aconselho', 'Adorei', 'Aplicativo Nao abre e quando abre da erro', 'Melhorando a cada atualização Foi bom, começou a ficar ruim, agora esta melhorando de novo', ' Uso muito areas offline e rotas', ' GPS rapido e confiavel', 'Era pra poder usa off', 'Foda se é muito ruim galera esse aplicativo é ruim Fala po re oidicupa xega', 'Burro esse aplicativo', ' Errou o caminho', 'Top', \"Bom O maps só reconhece metade da avenida Luiz Gushiken (m'boi mirim) por isto leva 4 estrelas\", 'Ótimo ??????', 'Muito bom, uso muito! Uma sugestão', ' Poderia dar um aviso sonoro para ligarmos os faróis quando tivermos próximo de entrar nas rodovias!', 'Lg Gosteimuito exelente', 'Adorei??????', 'E muito bom aprovei app', 'Está uma porcaria travando direto ', 'Otimo aplicativo Perfeito, funciona muito bem!', 'Bom Mas precisa de atualização', 'Muito bom Otimo', 'B Bom', 'Quebra o ganho as vezes', 'Bom O problema é que as vezes faz gastar mais gasolina a andar às voltar para chegarmos ao mesmo sítio', 'Não estou conseguindo fazer o downloads das areas off resolvam isso!', 'Muito bom Amei isso', 'Bonzinho Vcs sabem que td que é de graça e melhor pois é quando for off ele vai se o melhor', 'Ruin As Rua prossimo a minha casa estao embaralhadas', 'Muito bom!!!!! Graças a esse app posso andar na minha cidade sem se preocupar ela sendo grande!por que dai esse app me ajuda nos caminhos da minha cidade :)', 'Gostei muito bom Mas poderia ter alertas de Radar e ou limites de velocidade das vias porque as as vezes não sabemos o qual é a velocidade da via', 'Perfeito! Muito bom mesmo! Recomendo!', 'Ñ fala a distância correta até o local', 'Geovanna Muito bom', 'Otimo O melhor app, ja usei ele até de ape ele é otimo, leva agente certinho', ' E se você vira a rua errada ele faz outro trajeto para você voltar a direção certa', ' e o melhor é que ele não gasta quase nada de franquia', ' ele vai falando e indicando tudo e quando você olha nos dados, não gasta quase nada', ' Muito recomendado', 'Bom De mais', 'Faltou a Opção Of Line', 'Não funciona e não desinstala', 'mesmo atualizado não funciona', ' porcaria!', 'Otimo Maravilhoso', 'Google bem que poderiam atualizar os nomes das Ruas e Por o Street View Aqui', 'Deveria atualizar as Ruas,casas etc', 'É bonzin', 'Ruim Ruim', 'Adorei bom de mais da conta Pratico e util', 'Ótimo', 'Satisfação', ' Bom', 'Ótimo Recomendo', 'Não compensa!!!! Sempre mostra a rota mais difícil e maior!!!!!! Não é prático', ' Além das imagens serem horríveis e confundirem a rota', 'Top Cheio de operações', 'Muito Bom', 'Muito bom!!!!!', 'Excelente Uso a quase 2 anos, ótima opção!', 'Excelente Mim ajuda muito quando quero ir à algum endereço que não conheço', 'Amei Eu queria que atualizasse o de hoje tempo moderno pq tou enjoado de ver eu enfrente da minha casa com uma toalha kkkkk quem quiser ve é Turquia n 51 bairro jardim sao jorge da lagoa campo grande Mt', 'ótimo', 'Bom Muito bom', 'Boa E mais ou menos', 'B+ MASSA', 'Os criadores usa esse app Vcs usam esse app??? É da Google e tão bugado', ' Agente não consegue ver a rota com a foto do local junto', 'Querendo ver o local que iremos passar e que não conhecemos e não dá', 'Gostei Muito bom esse app nunca me deixou na mão informa direito', 'Otimo Sempre mantenho atualizado está bom', 'Muito bom Legal', 'Ótimo Bom', 'Bom', 'Muito bom', 'Gostei', 'Amei']\n"
     ]
    }
   ],
   "source": [
    "file = open(\"test.txt\", 'r')\n",
    "lines = file.readlines()\n",
    "my_corpus = [line.split('\\n')[0] for line in open (\"test.txt\")]\n",
    "print (my_corpus)"
   ]
  },
  {
   "cell_type": "code",
   "execution_count": 8,
   "metadata": {},
   "outputs": [
    {
     "ename": "NotADirectoryError",
     "evalue": "[WinError 267] O nome do diretório é inválido: 'test.txt'",
     "output_type": "error",
     "traceback": [
      "\u001b[1;31m---------------------------------------------------------------------------\u001b[0m",
      "\u001b[1;31mNotADirectoryError\u001b[0m                        Traceback (most recent call last)",
      "\u001b[1;32m<ipython-input-8-e1c4df72e030>\u001b[0m in \u001b[0;36m<module>\u001b[1;34m()\u001b[0m\n\u001b[1;32m----> 1\u001b[1;33m \u001b[0mmy_corpus2\u001b[0m \u001b[1;33m=\u001b[0m \u001b[0mload_files\u001b[0m\u001b[1;33m(\u001b[0m\u001b[1;34m'test.txt'\u001b[0m\u001b[1;33m,\u001b[0m \u001b[0mencoding\u001b[0m\u001b[1;33m=\u001b[0m\u001b[1;34m\"utf-8\"\u001b[0m\u001b[1;33m)\u001b[0m\u001b[1;33m\u001b[0m\u001b[0m\n\u001b[0m\u001b[0;32m      2\u001b[0m \u001b[0mprint\u001b[0m \u001b[1;33m(\u001b[0m\u001b[0mmy_corpus2\u001b[0m\u001b[1;33m)\u001b[0m\u001b[1;33m\u001b[0m\u001b[0m\n",
      "\u001b[1;32mC:\\Users\\Acer\\Miniconda3\\lib\\site-packages\\sklearn\\datasets\\base.py\u001b[0m in \u001b[0;36mload_files\u001b[1;34m(container_path, description, categories, load_content, shuffle, encoding, decode_error, random_state)\u001b[0m\n\u001b[0;32m    199\u001b[0m     \u001b[0mfilenames\u001b[0m \u001b[1;33m=\u001b[0m \u001b[1;33m[\u001b[0m\u001b[1;33m]\u001b[0m\u001b[1;33m\u001b[0m\u001b[0m\n\u001b[0;32m    200\u001b[0m \u001b[1;33m\u001b[0m\u001b[0m\n\u001b[1;32m--> 201\u001b[1;33m     folders = [f for f in sorted(listdir(container_path))\n\u001b[0m\u001b[0;32m    202\u001b[0m                if isdir(join(container_path, f))]\n\u001b[0;32m    203\u001b[0m \u001b[1;33m\u001b[0m\u001b[0m\n",
      "\u001b[1;31mNotADirectoryError\u001b[0m: [WinError 267] O nome do diretório é inválido: 'test.txt'"
     ]
    }
   ],
   "source": [
    "my_corpus2 = load_files('test.txt', encoding=\"utf-8\")\n",
    "print (my_corpus2)"
   ]
  },
  {
   "cell_type": "code",
   "execution_count": 7,
   "metadata": {},
   "outputs": [
    {
     "ename": "AttributeError",
     "evalue": "'DataFrame' object has no attribute 'lower'",
     "output_type": "error",
     "traceback": [
      "\u001b[1;31m---------------------------------------------------------------------------\u001b[0m",
      "\u001b[1;31mAttributeError\u001b[0m                            Traceback (most recent call last)",
      "\u001b[1;32m<ipython-input-7-cf1a08a0d41e>\u001b[0m in \u001b[0;36m<module>\u001b[1;34m()\u001b[0m\n\u001b[0;32m     10\u001b[0m     \u001b[0mcorpus\u001b[0m\u001b[1;33m\u001b[0m\u001b[0m\n\u001b[0;32m     11\u001b[0m  ]\n\u001b[1;32m---> 12\u001b[1;33m \u001b[0mX\u001b[0m \u001b[1;33m=\u001b[0m \u001b[0mvectorizer\u001b[0m\u001b[1;33m.\u001b[0m\u001b[0mfit_transform\u001b[0m\u001b[1;33m(\u001b[0m\u001b[0mcorpus\u001b[0m\u001b[1;33m)\u001b[0m\u001b[1;33m\u001b[0m\u001b[0m\n\u001b[0m\u001b[0;32m     13\u001b[0m \u001b[1;33m\u001b[0m\u001b[0m\n",
      "\u001b[1;32mC:\\Users\\Acer\\Miniconda3\\lib\\site-packages\\sklearn\\feature_extraction\\text.py\u001b[0m in \u001b[0;36mfit_transform\u001b[1;34m(self, raw_documents, y)\u001b[0m\n\u001b[0;32m    837\u001b[0m \u001b[1;33m\u001b[0m\u001b[0m\n\u001b[0;32m    838\u001b[0m         vocabulary, X = self._count_vocab(raw_documents,\n\u001b[1;32m--> 839\u001b[1;33m                                           self.fixed_vocabulary_)\n\u001b[0m\u001b[0;32m    840\u001b[0m \u001b[1;33m\u001b[0m\u001b[0m\n\u001b[0;32m    841\u001b[0m         \u001b[1;32mif\u001b[0m \u001b[0mself\u001b[0m\u001b[1;33m.\u001b[0m\u001b[0mbinary\u001b[0m\u001b[1;33m:\u001b[0m\u001b[1;33m\u001b[0m\u001b[0m\n",
      "\u001b[1;32mC:\\Users\\Acer\\Miniconda3\\lib\\site-packages\\sklearn\\feature_extraction\\text.py\u001b[0m in \u001b[0;36m_count_vocab\u001b[1;34m(self, raw_documents, fixed_vocab)\u001b[0m\n\u001b[0;32m    760\u001b[0m         \u001b[1;32mfor\u001b[0m \u001b[0mdoc\u001b[0m \u001b[1;32min\u001b[0m \u001b[0mraw_documents\u001b[0m\u001b[1;33m:\u001b[0m\u001b[1;33m\u001b[0m\u001b[0m\n\u001b[0;32m    761\u001b[0m             \u001b[0mfeature_counter\u001b[0m \u001b[1;33m=\u001b[0m \u001b[1;33m{\u001b[0m\u001b[1;33m}\u001b[0m\u001b[1;33m\u001b[0m\u001b[0m\n\u001b[1;32m--> 762\u001b[1;33m             \u001b[1;32mfor\u001b[0m \u001b[0mfeature\u001b[0m \u001b[1;32min\u001b[0m \u001b[0manalyze\u001b[0m\u001b[1;33m(\u001b[0m\u001b[0mdoc\u001b[0m\u001b[1;33m)\u001b[0m\u001b[1;33m:\u001b[0m\u001b[1;33m\u001b[0m\u001b[0m\n\u001b[0m\u001b[0;32m    763\u001b[0m                 \u001b[1;32mtry\u001b[0m\u001b[1;33m:\u001b[0m\u001b[1;33m\u001b[0m\u001b[0m\n\u001b[0;32m    764\u001b[0m                     \u001b[0mfeature_idx\u001b[0m \u001b[1;33m=\u001b[0m \u001b[0mvocabulary\u001b[0m\u001b[1;33m[\u001b[0m\u001b[0mfeature\u001b[0m\u001b[1;33m]\u001b[0m\u001b[1;33m\u001b[0m\u001b[0m\n",
      "\u001b[1;32mC:\\Users\\Acer\\Miniconda3\\lib\\site-packages\\sklearn\\feature_extraction\\text.py\u001b[0m in \u001b[0;36m<lambda>\u001b[1;34m(doc)\u001b[0m\n\u001b[0;32m    239\u001b[0m \u001b[1;33m\u001b[0m\u001b[0m\n\u001b[0;32m    240\u001b[0m             return lambda doc: self._word_ngrams(\n\u001b[1;32m--> 241\u001b[1;33m                 tokenize(preprocess(self.decode(doc))), stop_words)\n\u001b[0m\u001b[0;32m    242\u001b[0m \u001b[1;33m\u001b[0m\u001b[0m\n\u001b[0;32m    243\u001b[0m         \u001b[1;32melse\u001b[0m\u001b[1;33m:\u001b[0m\u001b[1;33m\u001b[0m\u001b[0m\n",
      "\u001b[1;32mC:\\Users\\Acer\\Miniconda3\\lib\\site-packages\\sklearn\\feature_extraction\\text.py\u001b[0m in \u001b[0;36m<lambda>\u001b[1;34m(x)\u001b[0m\n\u001b[0;32m    205\u001b[0m \u001b[1;33m\u001b[0m\u001b[0m\n\u001b[0;32m    206\u001b[0m         \u001b[1;32mif\u001b[0m \u001b[0mself\u001b[0m\u001b[1;33m.\u001b[0m\u001b[0mlowercase\u001b[0m\u001b[1;33m:\u001b[0m\u001b[1;33m\u001b[0m\u001b[0m\n\u001b[1;32m--> 207\u001b[1;33m             \u001b[1;32mreturn\u001b[0m \u001b[1;32mlambda\u001b[0m \u001b[0mx\u001b[0m\u001b[1;33m:\u001b[0m \u001b[0mstrip_accents\u001b[0m\u001b[1;33m(\u001b[0m\u001b[0mx\u001b[0m\u001b[1;33m.\u001b[0m\u001b[0mlower\u001b[0m\u001b[1;33m(\u001b[0m\u001b[1;33m)\u001b[0m\u001b[1;33m)\u001b[0m\u001b[1;33m\u001b[0m\u001b[0m\n\u001b[0m\u001b[0;32m    208\u001b[0m         \u001b[1;32melse\u001b[0m\u001b[1;33m:\u001b[0m\u001b[1;33m\u001b[0m\u001b[0m\n\u001b[0;32m    209\u001b[0m             \u001b[1;32mreturn\u001b[0m \u001b[0mstrip_accents\u001b[0m\u001b[1;33m\u001b[0m\u001b[0m\n",
      "\u001b[1;32mC:\\Users\\Acer\\Miniconda3\\lib\\site-packages\\pandas\\core\\generic.py\u001b[0m in \u001b[0;36m__getattr__\u001b[1;34m(self, name)\u001b[0m\n\u001b[0;32m   2968\u001b[0m             \u001b[1;32mif\u001b[0m \u001b[0mname\u001b[0m \u001b[1;32min\u001b[0m \u001b[0mself\u001b[0m\u001b[1;33m.\u001b[0m\u001b[0m_info_axis\u001b[0m\u001b[1;33m:\u001b[0m\u001b[1;33m\u001b[0m\u001b[0m\n\u001b[0;32m   2969\u001b[0m                 \u001b[1;32mreturn\u001b[0m \u001b[0mself\u001b[0m\u001b[1;33m[\u001b[0m\u001b[0mname\u001b[0m\u001b[1;33m]\u001b[0m\u001b[1;33m\u001b[0m\u001b[0m\n\u001b[1;32m-> 2970\u001b[1;33m             \u001b[1;32mreturn\u001b[0m \u001b[0mobject\u001b[0m\u001b[1;33m.\u001b[0m\u001b[0m__getattribute__\u001b[0m\u001b[1;33m(\u001b[0m\u001b[0mself\u001b[0m\u001b[1;33m,\u001b[0m \u001b[0mname\u001b[0m\u001b[1;33m)\u001b[0m\u001b[1;33m\u001b[0m\u001b[0m\n\u001b[0m\u001b[0;32m   2971\u001b[0m \u001b[1;33m\u001b[0m\u001b[0m\n\u001b[0;32m   2972\u001b[0m     \u001b[1;32mdef\u001b[0m \u001b[0m__setattr__\u001b[0m\u001b[1;33m(\u001b[0m\u001b[0mself\u001b[0m\u001b[1;33m,\u001b[0m \u001b[0mname\u001b[0m\u001b[1;33m,\u001b[0m \u001b[0mvalue\u001b[0m\u001b[1;33m)\u001b[0m\u001b[1;33m:\u001b[0m\u001b[1;33m\u001b[0m\u001b[0m\n",
      "\u001b[1;31mAttributeError\u001b[0m: 'DataFrame' object has no attribute 'lower'"
     ]
    }
   ],
   "source": [
    "stop_words = my_list\n",
    "\n",
    "vectorizer = CountVectorizer(analyzer='word', binary=False, decode_error='strict',\n",
    "        encoding='utf-8', input='content',\n",
    "        lowercase=True, max_df=1.0, max_features=None, min_df=1,\n",
    "        ngram_range=(1, 1), preprocessor=None, stop_words= stop_words,\n",
    "        strip_accents=None, token_pattern='(?u)\\\\b\\\\w\\\\w+\\\\b',\n",
    "        tokenizer=None, vocabulary=None)\n",
    "corpus = [\n",
    "    corpus\n",
    " ]\n",
    "X = vectorizer.fit_transform(corpus)\n",
    "                            \n"
   ]
  },
  {
   "cell_type": "code",
   "execution_count": 30,
   "metadata": {},
   "outputs": [
    {
     "data": {
      "text/plain": [
       "frozenset({'a',\n",
       "           'ao',\n",
       "           'aos',\n",
       "           'aquela',\n",
       "           'aquelas',\n",
       "           'aquele',\n",
       "           'aqueles',\n",
       "           'aquilo',\n",
       "           'as',\n",
       "           'atÃ©',\n",
       "           'com',\n",
       "           'como',\n",
       "           'da',\n",
       "           'das',\n",
       "           'de',\n",
       "           'dela',\n",
       "           'delas',\n",
       "           'dele',\n",
       "           'deles',\n",
       "           'depois',\n",
       "           'do',\n",
       "           'dos',\n",
       "           'e',\n",
       "           'ela',\n",
       "           'elas',\n",
       "           'ele',\n",
       "           'eles',\n",
       "           'em',\n",
       "           'entre',\n",
       "           'era',\n",
       "           'eram',\n",
       "           'essa',\n",
       "           'essas',\n",
       "           'esse',\n",
       "           'esses',\n",
       "           'esta',\n",
       "           'estamos',\n",
       "           'estas',\n",
       "           'estava',\n",
       "           'estavam',\n",
       "           'este',\n",
       "           'esteja',\n",
       "           'estejam',\n",
       "           'estejamos',\n",
       "           'estes',\n",
       "           'esteve',\n",
       "           'estive',\n",
       "           'estivemos',\n",
       "           'estiver',\n",
       "           'estivera',\n",
       "           'estiveram',\n",
       "           'estiverem',\n",
       "           'estivermos',\n",
       "           'estivesse',\n",
       "           'estivessem',\n",
       "           'estivÃ©ramos',\n",
       "           'estivÃ©ssemos',\n",
       "           'estou',\n",
       "           'estÃ¡',\n",
       "           'estÃ¡vamos',\n",
       "           'estÃ£o',\n",
       "           'eu',\n",
       "           'foi',\n",
       "           'fomos',\n",
       "           'for',\n",
       "           'fora',\n",
       "           'foram',\n",
       "           'forem',\n",
       "           'formos',\n",
       "           'fosse',\n",
       "           'fossem',\n",
       "           'fui',\n",
       "           'fÃ´ramos',\n",
       "           'fÃ´ssemos',\n",
       "           'haja',\n",
       "           'hajam',\n",
       "           'hajamos',\n",
       "           'havemos',\n",
       "           'havia',\n",
       "           'hei',\n",
       "           'houve',\n",
       "           'houvemos',\n",
       "           'houver',\n",
       "           'houvera',\n",
       "           'houveram',\n",
       "           'houverei',\n",
       "           'houverem',\n",
       "           'houveremos',\n",
       "           'houveria',\n",
       "           'houveriam',\n",
       "           'houvermos',\n",
       "           'houverÃ¡',\n",
       "           'houverÃ£o',\n",
       "           'houverÃ\\xadamos',\n",
       "           'houvesse',\n",
       "           'houvessem',\n",
       "           'houvÃ©ramos',\n",
       "           'houvÃ©ssemos',\n",
       "           'hÃ¡',\n",
       "           'hÃ£o',\n",
       "           'isso',\n",
       "           'isto',\n",
       "           'jÃ¡',\n",
       "           'lhe',\n",
       "           'lhes',\n",
       "           'mais',\n",
       "           'mas',\n",
       "           'me',\n",
       "           'mesmo',\n",
       "           'meu',\n",
       "           'meus',\n",
       "           'minha',\n",
       "           'minhas',\n",
       "           'muito',\n",
       "           'na',\n",
       "           'nas',\n",
       "           'nem',\n",
       "           'no',\n",
       "           'nos',\n",
       "           'nossa',\n",
       "           'nossas',\n",
       "           'nosso',\n",
       "           'nossos',\n",
       "           'num',\n",
       "           'numa',\n",
       "           'nÃ£o',\n",
       "           'nÃ³s',\n",
       "           'o',\n",
       "           'os',\n",
       "           'ou',\n",
       "           'para',\n",
       "           'pela',\n",
       "           'pelas',\n",
       "           'pelo',\n",
       "           'pelos',\n",
       "           'por',\n",
       "           'qual',\n",
       "           'quando',\n",
       "           'que',\n",
       "           'quem',\n",
       "           'se',\n",
       "           'seja',\n",
       "           'sejam',\n",
       "           'sejamos',\n",
       "           'sem',\n",
       "           'ser',\n",
       "           'serei',\n",
       "           'seremos',\n",
       "           'seria',\n",
       "           'seriam',\n",
       "           'serÃ¡',\n",
       "           'serÃ£o',\n",
       "           'serÃ\\xadamos',\n",
       "           'seu',\n",
       "           'seus',\n",
       "           'somos',\n",
       "           'sou',\n",
       "           'sua',\n",
       "           'suas',\n",
       "           'sÃ£o',\n",
       "           'sÃ³',\n",
       "           'tambÃ©m',\n",
       "           'te',\n",
       "           'tem',\n",
       "           'temos',\n",
       "           'tenha',\n",
       "           'tenham',\n",
       "           'tenhamos',\n",
       "           'tenho',\n",
       "           'ter',\n",
       "           'terei',\n",
       "           'teremos',\n",
       "           'teria',\n",
       "           'teriam',\n",
       "           'terÃ¡',\n",
       "           'terÃ£o',\n",
       "           'terÃ\\xadamos',\n",
       "           'teu',\n",
       "           'teus',\n",
       "           'teve',\n",
       "           'tinha',\n",
       "           'tinham',\n",
       "           'tive',\n",
       "           'tivemos',\n",
       "           'tiver',\n",
       "           'tivera',\n",
       "           'tiveram',\n",
       "           'tiverem',\n",
       "           'tivermos',\n",
       "           'tivesse',\n",
       "           'tivessem',\n",
       "           'tivÃ©ramos',\n",
       "           'tivÃ©ssemos',\n",
       "           'tu',\n",
       "           'tua',\n",
       "           'tuas',\n",
       "           'tÃ©m',\n",
       "           'tÃªm',\n",
       "           'tÃ\\xadnhamos',\n",
       "           'um',\n",
       "           'uma',\n",
       "           'vocÃª',\n",
       "           'vocÃªs',\n",
       "           'vos',\n",
       "           'Ã\\xa0',\n",
       "           'Ã\\xa0s',\n",
       "           'Ã©',\n",
       "           'Ã©ramos'})"
      ]
     },
     "execution_count": 30,
     "metadata": {},
     "output_type": "execute_result"
    }
   ],
   "source": [
    "x = vectorizer.get_stop_words()\n",
    "x"
   ]
  },
  {
   "cell_type": "code",
   "execution_count": 120,
   "metadata": {},
   "outputs": [
    {
     "data": {
      "text/plain": [
       "{'ainda': 0,\n",
       " 'ajudou': 1,\n",
       " 'bom': 2,\n",
       " 'conheço': 3,\n",
       " 'deixou': 4,\n",
       " 'já': 5,\n",
       " 'lugares': 6,\n",
       " 'melhor': 7,\n",
       " 'mão': 8,\n",
       " 'não': 9,\n",
       " 'principalmente': 10,\n",
       " 'ótimo': 11}"
      ]
     },
     "execution_count": 120,
     "metadata": {},
     "output_type": "execute_result"
    }
   ],
   "source": [
    "vectorizer.vocabulary_"
   ]
  },
  {
   "cell_type": "code",
   "execution_count": 3,
   "metadata": {},
   "outputs": [
    {
     "ename": "NameError",
     "evalue": "name 'vectorizer' is not defined",
     "output_type": "error",
     "traceback": [
      "\u001b[1;31m---------------------------------------------------------------------------\u001b[0m",
      "\u001b[1;31mNameError\u001b[0m                                 Traceback (most recent call last)",
      "\u001b[1;32m<ipython-input-3-1b61b1dca25c>\u001b[0m in \u001b[0;36m<module>\u001b[1;34m()\u001b[0m\n\u001b[1;32m----> 1\u001b[1;33m \u001b[0mvectorizer\u001b[0m\u001b[1;33m.\u001b[0m\u001b[0mget_feature_names\u001b[0m\u001b[1;33m(\u001b[0m\u001b[1;33m)\u001b[0m\u001b[1;33m\u001b[0m\u001b[0m\n\u001b[0m",
      "\u001b[1;31mNameError\u001b[0m: name 'vectorizer' is not defined"
     ]
    }
   ],
   "source": [
    "vectorizer.get_feature_names()"
   ]
  },
  {
   "cell_type": "code",
   "execution_count": 28,
   "metadata": {},
   "outputs": [
    {
     "data": {
      "text/plain": [
       "<bound method _cs_matrix.toarray of <1x1 sparse matrix of type '<class 'numpy.int64'>'\n",
       "\twith 1 stored elements in Compressed Sparse Row format>>"
      ]
     },
     "execution_count": 28,
     "metadata": {},
     "output_type": "execute_result"
    }
   ],
   "source": [
    "X.toarray"
   ]
  },
  {
   "cell_type": "code",
   "execution_count": null,
   "metadata": {
    "collapsed": true
   },
   "outputs": [],
   "source": []
  }
 ],
 "metadata": {
  "kernelspec": {
   "display_name": "Python 3",
   "language": "python",
   "name": "python3"
  },
  "language_info": {
   "codemirror_mode": {
    "name": "ipython",
    "version": 3
   },
   "file_extension": ".py",
   "mimetype": "text/x-python",
   "name": "python",
   "nbconvert_exporter": "python",
   "pygments_lexer": "ipython3",
   "version": "3.6.0"
  }
 },
 "nbformat": 4,
 "nbformat_minor": 2
}
